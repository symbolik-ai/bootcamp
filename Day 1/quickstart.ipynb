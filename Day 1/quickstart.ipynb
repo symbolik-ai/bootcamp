{
 "cells": [
  {
   "cell_type": "markdown",
   "metadata": {},
   "source": [
    "# Notebooks can contain text [(markdown)](https://docs.github.com/en/get-started/writing-on-github/getting-started-with-writing-and-formatting-on-github/basic-writing-and-formatting-syntax) AND code!\n",
    "\n",
    "Isn't that ***awesome?***\n",
    "\n",
    "Anyway... remember to select a kernel in the top right corner 🙌\n",
    "\n",
    "After selecting the kernel (python → symbolik-bootcamp), try running the first code block. When prompted to install the jupyter package, just select **install**\n",
    "\n",
    "When finished, close this file and reopen to update the syntax highlighting."
   ]
  },
  {
   "cell_type": "code",
   "execution_count": null,
   "metadata": {},
   "outputs": [],
   "source": [
    "# setup --------------------------\n",
    "from dotenv import load_dotenv\n",
    "load_dotenv()"
   ]
  },
  {
   "cell_type": "code",
   "execution_count": null,
   "metadata": {},
   "outputs": [],
   "source": [
    "from langchain.chat_models import ChatOpenAI\n",
    "chat_model = ChatOpenAI()\n",
    "chat_model.predict(\"hi!\")"
   ]
  }
 ],
 "metadata": {
  "kernelspec": {
   "display_name": "symbolik-bootcamp",
   "language": "python",
   "name": "python3"
  },
  "language_info": {
   "codemirror_mode": {
    "name": "ipython",
    "version": 3
   },
   "file_extension": ".py",
   "mimetype": "text/x-python",
   "name": "python",
   "nbconvert_exporter": "python",
   "pygments_lexer": "ipython3",
   "version": "3.11.0"
  },
  "orig_nbformat": 4
 },
 "nbformat": 4,
 "nbformat_minor": 2
}
