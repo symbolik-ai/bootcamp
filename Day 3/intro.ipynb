{
 "cells": [
  {
   "cell_type": "code",
   "execution_count": 1,
   "metadata": {},
   "outputs": [
    {
     "data": {
      "text/plain": [
       "True"
      ]
     },
     "execution_count": 1,
     "metadata": {},
     "output_type": "execute_result"
    }
   ],
   "source": [
    "from dotenv import load_dotenv\n",
    "load_dotenv()"
   ]
  },
  {
   "cell_type": "code",
   "execution_count": 2,
   "metadata": {},
   "outputs": [],
   "source": [
    "from langchain.document_loaders import PyPDFLoader\n",
    "loader = PyPDFLoader(\"books/atomic-habits.pdf\")\n",
    "pages = loader.load_and_split()"
   ]
  },
  {
   "cell_type": "markdown",
   "metadata": {},
   "source": [
    "\n",
    "The `faiss_index` is seperated into it's own code block, as it uses tokens from OpenAI (costs money), so there is no reason to run it more than necesary. By placing it in a seperate code block, it doesn't have to run together everytime you run or change the other parts of the code."
   ]
  },
  {
   "cell_type": "code",
   "execution_count": 3,
   "metadata": {},
   "outputs": [],
   "source": [
    "from langchain.vectorstores import FAISS\n",
    "from langchain.embeddings.openai import OpenAIEmbeddings\n",
    "faiss_index = FAISS.from_documents(pages, OpenAIEmbeddings())"
   ]
  },
  {
   "cell_type": "markdown",
   "metadata": {},
   "source": [
    "Let's try to do `similarity_search` on the vector store:"
   ]
  },
  {
   "cell_type": "code",
   "execution_count": 4,
   "metadata": {},
   "outputs": [
    {
     "name": "stdout",
     "output_type": "stream",
     "text": [
      "40: Building\tbetter\thabits\tisn’t\tabout\tlittering\tyour\tday\twith\tlife\thacks.\n",
      "It’s\tnot\tabout\tflossing\tone\ttooth\teach\tnight\tor\ttaking\ta\tcold\tshower\n",
      "each\tmorning\tor\twearing\tthe\tsame\toutfit\teach\tday.\tIt’s\tnot\tabout\n",
      "achieving\texternal\tmeasures\tof\tsuccess\tlike\tearning\tmore\tmoney,\n",
      "losing\tweight,\tor\treducing\tstress.\tHabits\tcan\thelp\tyou\tachieve\tall\tof\n",
      "these\tthings,\tbut\tfundamentally\tthey\tare\tnot\tabout\t\n",
      "having\n",
      "\tsomething.\n",
      "They\tare\tabout\t\n",
      "becoming\n",
      "\tsomeone.\n",
      "Ultimately,\tyour\thabits\tmatter\tbecause\tthey\thelp\tyou\tbecome\tthe\n",
      "type\tof\tperson\tyou\twish\tto\tbe.\tThey\tare\tthe\tchannel\tthrough\twhich\tyou\n",
      "develop\tyour\tdeepest\tbeliefs\tabout\tyourself.\tQuite\tliterally,\tyou\tbecome\n",
      "your\thabits.\n",
      "Chapter\tSummary\n",
      "There\tare\tthree\tlevels\tof\tchange:\toutcome\tchange,\tprocess\tchange,\n",
      "and\tidentity\tchange.\n",
      "The\tmost\teffective\tway\tto\tchange\tyour\thabits\tis\tto\tfocus\tnot\ton\n",
      "what\tyou\twant\tto\tachieve,\tbut\ton\twho\tyou\twish\tto\tbecome.\n",
      "Your\tidentity\temerges\tout\tof\tyour\thabits.\tEvery\taction\tis\ta\tvote\tfor\n",
      "the\ttype\tof\tperson\tyou\twish\tto\tbecome.\n",
      "Becoming\tthe\tbest\tversion\tof\tyourself\trequires\tyou\tto\n",
      "continuously\tedit\tyour\tbeliefs,\tand\tto\tupgrade\tand\texpand\tyour\n",
      "identity.\n",
      "The\treal\treason\thabits\tmatter\tis\tnot\tbecause\tthey\tcan\tget\tyou\n",
      "better\tresults\t(although\tthey\tcan\tdo\tthat),\tbut\tbecause\tthey\tcan\n",
      "change\tyour\tbeliefs\tabout\t\n",
      "yourself.\n",
      "30: W\n",
      "2\n",
      "How\tYour\tHabits\tShape\tYour\tIdentity\t(and\n",
      "Vice\tVersa)\n",
      "HY\tIS\tIT\t\n",
      "so\teasy\tto\trepeat\tbad\thabits\tand\tso\thard\tto\tform\tgood\n",
      "ones?\tFew\tthings\tcan\thave\ta\tmore\tpowerful\timpact\ton\tyour\tlife\n",
      "than\timproving\tyour\tdaily\thabits.\tAnd\tyet\tit\tis\tlikely\tthat\tthis\ttime\tnext\n",
      "year\tyou’ll\tbe\tdoing\tthe\tsame\tthing\trather\tthan\tsomething\tbetter.\n",
      "It\toften\tfeels\tdifficult\tto\tkeep\tgood\thabits\tgoing\tfor\tmore\tthan\ta\tfew\n",
      "days,\teven\twith\tsincere\teffort\tand\tthe\toccasional\tburst\tof\tmotivation.\n",
      "Habits\tlike\texercise,\tmeditation,\tjournaling,\tand\tcooking\tare\n",
      "reasonable\tfor\ta\tday\tor\ttwo\tand\tthen\tbecome\ta\thassle.\n",
      "However,\tonce\tyour\thabits\tare\testablished,\tthey\tseem\tto\tstick\n",
      "around\tforever—especially\tthe\tunwanted\tones.\tDespite\tour\tbest\n",
      "intentions,\tunhealthy\thabits\tlike\teating\tjunk\tfood,\twatching\ttoo\tmuch\n",
      "television,\tprocrastinating,\tand\tsmoking\tcan\tfeel\timpossible\tto\tbreak.\n",
      "Changing\tour\thabits\tis\tchallenging\tfor\ttwo\treasons:\t(1)\twe\ttry\tto\n",
      "change\tthe\twrong\tthing\tand\t(2)\twe\ttry\tto\tchange\tour\thabits\tin\tthe\n",
      "wrong\tway.\tIn\tthis\tchapter,\tI’ll\taddress\tthe\tfirst\tpoint.\tIn\tthe\tchapters\n",
      "that\tfollow,\tI’ll\tanswer\tthe\tsecond.\n",
      "Our\tfirst\tmistake\tis\tthat\twe\ttry\tto\tchange\tthe\twrong\tthing.\tTo\n",
      "understand\twhat\tI\tmean,\tconsider\tthat\tthere\tare\tthree\tlevels\tat\twhich\n",
      "change\tcan\toccur.\t\n",
      "You\tcan\timagine\tthem\tlike\tthe\tlayers\tof\tan\tonion.\n",
      "THREE\tLAYERS\tOF\tBEHAVIOR\tCHANGE\n"
     ]
    }
   ],
   "source": [
    "docs = faiss_index.similarity_search(\"What is the most important thing to keep in mind when trying to improve your habits?\", k=2)\n",
    "for doc in docs:\n",
    "  print(str(doc.metadata[\"page\"]) + \":\", doc.page_content)"
   ]
  }
 ],
 "metadata": {
  "kernelspec": {
   "display_name": "symbolik-bootcamp",
   "language": "python",
   "name": "python3"
  },
  "language_info": {
   "codemirror_mode": {
    "name": "ipython",
    "version": 3
   },
   "file_extension": ".py",
   "mimetype": "text/x-python",
   "name": "python",
   "nbconvert_exporter": "python",
   "pygments_lexer": "ipython3",
   "version": "3.11.0"
  },
  "orig_nbformat": 4
 },
 "nbformat": 4,
 "nbformat_minor": 2
}
